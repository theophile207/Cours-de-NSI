{
 "cells": [
  {
   "cell_type": "markdown",
   "metadata": {},
   "source": [
    "# Fiche de Révision : Programmation Orientée Objet (POO)\n",
    "**Définition**\n",
    "\n",
    "La Programmation Orientée Objet (POO) est un paradigme de programmation qui utilise des \"objets\" pour concevoir des applications et des programmes. Un objet est une instance d'une classe qui peut contenir des données sous forme de champs (attributs) et de code sous forme de méthodes (fonctions).\n",
    "\n",
    "**Concepts Clés**\n",
    "1. **Classe**\n",
    "\n",
    "* Définition d'un type d'objet.\n",
    "* Sert de modèle ou de plan pour créer des objets.\n",
    "\n",
    "\n",
    "\n",
    "\n"
   ]
  },
  {
   "cell_type": "code",
   "execution_count": null,
   "metadata": {},
   "outputs": [],
   "source": [
    "class Voiture:\n",
    "    def __init__(self, marque, modele):\n",
    "        self.marque = marque\n",
    "        self.modele = modele\n",
    "    \n",
    "    def afficher_info(self):\n",
    "        print(f\"Voiture: {self.marque} {self.modele}\")"
   ]
  },
  {
   "cell_type": "markdown",
   "metadata": {},
   "source": [
    "2. **Objet**\n",
    "\n",
    "* Instance d'une classe.\n",
    "* Chaque objet peut avoir des valeurs différentes pour les attributs définis dans la classe.\n",
    "\n",
    "\n"
   ]
  },
  {
   "cell_type": "code",
   "execution_count": null,
   "metadata": {},
   "outputs": [],
   "source": [
    "ma_voiture = Voiture(\"Toyota\", \"Corolla\")\n",
    "ma_voiture.afficher_info()  # Sortie: Voiture: Toyota Corolla"
   ]
  },
  {
   "cell_type": "markdown",
   "metadata": {},
   "source": [
    "3. **Encapsulation**\n",
    "\n",
    "* Technique qui consiste à regrouper les données (attributs) et les méthodes qui manipulent ces données dans une seule unité (classe).\n",
    "* Les attributs sont souvent déclarés comme privés (préfixés par un underscore) pour empêcher l'accès direct depuis l'extérieur de la classe."
   ]
  },
  {
   "cell_type": "code",
   "execution_count": null,
   "metadata": {},
   "outputs": [],
   "source": [
    "class CompteBancaire:\n",
    "    def __init__(self, solde):\n",
    "        self._solde = solde\n",
    "    \n",
    "    def deposer(self, montant):\n",
    "        self._solde += montant\n",
    "    \n",
    "    def retirer(self, montant):\n",
    "        if montant <= self._solde:\n",
    "            self._solde -= montant\n",
    "        else:\n",
    "            print(\"Fonds insuffisants\")\n",
    "    \n",
    "    def afficher_solde(self):\n",
    "        print(f\"Solde: {self._solde}\")"
   ]
  },
  {
   "cell_type": "markdown",
   "metadata": {},
   "source": [
    "4. Héritage\n",
    "\n",
    "* Mécanisme permettant de créer une nouvelle classe à partir d'une classe existante.\n",
    "* La nouvelle classe (classe dérivée ou enfant) hérite des attributs et méthodes de la classe de base (classe parent)."
   ]
  },
  {
   "cell_type": "code",
   "execution_count": null,
   "metadata": {},
   "outputs": [],
   "source": [
    "class Animal:\n",
    "    def __init__(self, nom):\n",
    "        self.nom = nom\n",
    "    \n",
    "    def parler(self):\n",
    "        pass\n",
    "\n",
    "class Chien(Animal):\n",
    "    def parler(self):\n",
    "        print(\"Woof!\")\n",
    "\n",
    "mon_chien = Chien(\"Rex\")\n",
    "mon_chien.parler()  # Sortie: Woof!"
   ]
  },
  {
   "cell_type": "markdown",
   "metadata": {},
   "source": [
    "5. **Polymorphisme**\n",
    "\n",
    "* Capacité de différentes classes dérivées de répondre à la même méthode de manière spécifique."
   ]
  },
  {
   "cell_type": "code",
   "execution_count": null,
   "metadata": {},
   "outputs": [],
   "source": [
    "class Chat(Animal):\n",
    "    def parler(self):\n",
    "        print(\"Meow!\")\n",
    "\n",
    "animaux = [Chien(\"Rex\"), Chat(\"Mimi\")]\n",
    "for animal in animaux:\n",
    "    animal.parler()\n",
    "# Sortie:\n",
    "# Woof!\n",
    "# Meow!"
   ]
  },
  {
   "cell_type": "markdown",
   "metadata": {},
   "source": [
    "6. **Abstraction**\n",
    "\n",
    "* Technique qui consiste à simplifier la complexité en modélisant les aspects essentiels d'un objet tout en cachant les détails complexes.\n",
    "* Souvent réalisée à l'aide de classes abstraites et de méthodes abstraites (méthodes déclarées mais non implémentées).\n",
    "\n",
    "\n",
    "\n",
    "\n",
    "\n",
    "**Avantages de la POO**\n",
    "* **Réutilisabilité** : Les classes et objets peuvent être réutilisés dans différents programmes.\n",
    "* **Modularité** : Le code est organisé en objets, ce qui facilite la gestion et la maintenance.\n",
    "* **Facilité de Debugging** : L'encapsulation permet de réduire les effets de bord, rendant le débogage plus simple.\n",
    "* **Extensibilité** : Les nouvelles fonctionnalités peuvent être ajoutées facilement grâce à l'héritage."
   ]
  },
  {
   "cell_type": "code",
   "execution_count": null,
   "metadata": {},
   "outputs": [],
   "source": [
    "class Personne:\n",
    "    def __init__(self, nom, age):\n",
    "        self.nom = nom\n",
    "        self.age = age\n",
    "\n",
    "    def afficher_info(self):\n",
    "        print(f\"Nom: {self.nom}, Âge: {self.age}\")\n",
    "\n",
    "class Etudiant(Personne):\n",
    "    def __init__(self, nom, age, etudes):\n",
    "        super().__init__(nom, age)\n",
    "        self.etudes = etudes\n",
    "\n",
    "    def afficher_info(self):\n",
    "        super().afficher_info()\n",
    "        print(f\"Études: {self.etudes}\")\n",
    "\n",
    "# Utilisation\n",
    "p = Personne(\"Alice\", 30)\n",
    "e = Etudiant(\"Bob\", 20, \"Informatique\")\n",
    "\n",
    "p.afficher_info()\n",
    "e.afficher_info()\n",
    "# Sortie:\n",
    "# Nom: Alice, Âge: 30\n",
    "# Nom: Bob, Âge: 20\n",
    "# Études: Informatique"
   ]
  }
 ],
 "metadata": {
  "language_info": {
   "name": "python"
  }
 },
 "nbformat": 4,
 "nbformat_minor": 2
}
