{
 "cells": [
  {
   "cell_type": "markdown",
   "metadata": {},
   "source": [
    "# Paradigmes et Bugs\n",
    "\n",
    "**Definition**:\n",
    "**Paradigme**: Modèle de pensée qui influence la façon de concevoir et d'écrire un programme\n",
    "\n",
    "\n",
    "## Principaux Paradigmes:\n",
    "* **Imperatif**: Opérations séquencées pour modifier l'état (ex: Python).\n",
    "    * Sous-paradigmes:\n",
    "        * Procedural: Organisation en procedures\n",
    "        * Structure: Utilisation de structures de contrôle\n",
    "        * Orienté Objet: regroupement de données et méthodes.\n",
    "* **Déclaration**: Spécifie le résultat sans décrire le processus (SQL)\n",
    "    * Sous-paradigmes:\n",
    "        * Fonctionnel : Basé sur des fonctions mathématique\n",
    "        * Logique: Base sur des relations logiques\n",
    "\n",
    "**Notes:**\n",
    "Focus on Imperatif and Fonctionnel \n",
    "\n",
    "\n",
    "\n",
    "**Notions:** \n",
    "\n",
    "**Effet de bord:**\n",
    "Modifie la variable en dehors de son environnement local \n"
   ]
  },
  {
   "cell_type": "code",
   "execution_count": null,
   "metadata": {},
   "outputs": [],
   "source": [
    "def increment(seuil):\n",
    "    global variable\n",
    "    while variable < seuil:\n",
    "        variable += 1\n",
    "\n",
    "variable = 1\n",
    "increment(10)\n",
    "print(variable) # 10"
   ]
  },
  {
   "cell_type": "markdown",
   "metadata": {},
   "source": [
    "**Fonction non pure**: \n",
    "Une fonction dont la sortie ne dépend pas que de ses entrées.\n"
   ]
  },
  {
   "cell_type": "code",
   "execution_count": null,
   "metadata": {},
   "outputs": [],
   "source": [
    "X = 1\n",
    "\n",
    "def somme_X(Y):\n",
    "    return X + Y\n",
    "\n",
    "print(somme_X(2)) # 3"
   ]
  },
  {
   "cell_type": "markdown",
   "metadata": {},
   "source": [
    "## Methode:\n",
    "\n",
    "Trouver quel type de Bug.\n",
    "\n",
    "Trouver la provenance.\n",
    "\n",
    "Vérifier avec la méthode try except:\n"
   ]
  },
  {
   "cell_type": "code",
   "execution_count": null,
   "metadata": {},
   "outputs": [],
   "source": [
    "try:\n",
    "…\n",
    "except (Le nom de l erreur):\n",
    "      print (“Y a un probleme”)\n"
   ]
  },
  {
   "cell_type": "markdown",
   "metadata": {},
   "source": [
    "Modifier le code pour qu'il soit juste"
   ]
  }
 ],
 "metadata": {
  "language_info": {
   "name": "python"
  }
 },
 "nbformat": 4,
 "nbformat_minor": 2
}
