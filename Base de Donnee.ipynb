{
 "cells": [
  {
   "cell_type": "markdown",
   "metadata": {},
   "source": [
    "# Base de Donne\n",
    "## Base de Donnees Relationelles\n",
    "* **Definition**: Organisees en table modelisant des systeme reels.\n"
   ]
  },
  {
   "cell_type": "markdown",
   "metadata": {},
   "source": [
    "## Requetes SQL:"
   ]
  },
  {
   "cell_type": "code",
   "execution_count": null,
   "metadata": {
    "vscode": {
     "languageId": "sql"
    }
   },
   "outputs": [],
   "source": [
    "'''Creation d une table'''\n",
    "CREATE TABLE livres (\n",
    "    ISBN VARCHAR(13) PRIMARY KEY,\n",
    "    Titre VARCHAR(100),\n",
    "    Auteur_id INT,\n",
    "    Parution INT,\n",
    "    FOREIGN KEY (Auteur_id) REFERENCES auteurs(id))"
   ]
  },
  {
   "cell_type": "code",
   "execution_count": null,
   "metadata": {
    "vscode": {
     "languageId": "sql"
    }
   },
   "outputs": [],
   "source": [
    "'''Insertion d un enregistrement'''\n",
    "INSERT INTO livres (ISBN, Titre, Auteur_id, Parution)\n",
    "VALUES ('978-2-9155-4943-0', 'L\\'Étoile de Pandore T1', 1, 2005);"
   ]
  },
  {
   "cell_type": "code",
   "execution_count": null,
   "metadata": {
    "vscode": {
     "languageId": "sql"
    }
   },
   "outputs": [],
   "source": [
    "'''Selection de livres'''\n",
    "SELECT * FROM livre WHERE Parution > 2000;"
   ]
  },
  {
   "cell_type": "code",
   "execution_count": null,
   "metadata": {
    "vscode": {
     "languageId": "sql"
    }
   },
   "outputs": [],
   "source": [
    "'''Mise a jour dun livre'''\n",
    "UPDATE livre SET Parution = 2006 WHERE ISBN = ‘978-2-9155-4943-0’"
   ]
  },
  {
   "cell_type": "code",
   "execution_count": null,
   "metadata": {
    "vscode": {
     "languageId": "sql"
    }
   },
   "outputs": [],
   "source": [
    "'''Suppression d un livre'''\n",
    "DELETE FROM livres WHERE ISBN = '978-2-9155-4943-0';"
   ]
  },
  {
   "cell_type": "code",
   "execution_count": null,
   "metadata": {
    "vscode": {
     "languageId": "sql"
    }
   },
   "outputs": [],
   "source": [
    "'''Declaraiton d une cle etrangere'''\n",
    "CREATE TABLE Auteurs (\n",
    "    id_Auteur INT PRIMARY KEY,\n",
    "    Nom VARCHAR(100)\n",
    ");\n",
    "\n",
    "CREATE TABLE Livres (\n",
    "    ISBN VARCHAR(13) PRIMARY KEY,\n",
    "    Titre VARCHAR(100),\n",
    "    id_Auteur INT,\n",
    "    FOREIGN KEY (id_Auteur) REFERENCES Auteurs(id_Auteur)\n",
    ");\n"
   ]
  },
  {
   "cell_type": "code",
   "execution_count": null,
   "metadata": {
    "vscode": {
     "languageId": "sql"
    }
   },
   "outputs": [],
   "source": [
    "'''Comment ca marche'''\n",
    "SELECT Livres.Titre, Auteurs.Nom\n",
    "FROM Livres\n",
    "INNER JOIN Auteurs ON Livres.id_Auteur = Auteurs.id_Auteur;"
   ]
  }
 ],
 "metadata": {
  "language_info": {
   "name": "python"
  }
 },
 "nbformat": 4,
 "nbformat_minor": 2
}
